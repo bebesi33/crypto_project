{
 "cells": [
  {
   "cell_type": "markdown",
   "metadata": {},
   "source": [
    "#### Notes:\n",
    "\n",
    "The main purpose of this notebook is to restrict the databases (around 2 Gb to a managable size...)\n",
    "<br> ... so a proper demo database is generated here.\n"
   ]
  },
  {
   "cell_type": "code",
   "execution_count": null,
   "metadata": {},
   "outputs": [],
   "source": [
    "import pandas as pd\n",
    "from pathlib import Path\n",
    "import shutil\n",
    "import sys\n",
    "import sqlite3\n",
    "\n",
    "sys.path.insert(0, r\"E:/Thesis/crypto_project\")\n",
    "\n",
    "from factor_model.model_update.database_generators import (\n",
    "    FACTOR_MODEL_ESTIMATES,\n",
    "    RAW_DATA_DB,\n",
    "    RETURN_DB,\n",
    "    SPECIFIC_RISK,\n",
    ")"
   ]
  },
  {
   "cell_type": "code",
   "execution_count": 8,
   "metadata": {},
   "outputs": [],
   "source": [
    "DATABASE_LOCATION = Path(r\"E:\\Thesis\\database\")\n",
    "DEMO_DATABASE_LOCATION = Path(r\"E:\\Thesis\\demo_database\")\n",
    "SYMBOL_LIST_LOC = Path(r\"E:\\Thesis\\demo_database\\bita_10_20241027.csv\")"
   ]
  },
  {
   "cell_type": "code",
   "execution_count": null,
   "metadata": {},
   "outputs": [],
   "source": [
    "# first copy databases...\n",
    "databases = [\n",
    "    RAW_DATA_DB,\n",
    "    RETURN_DB,\n",
    "    FACTOR_MODEL_ESTIMATES,\n",
    "    SPECIFIC_RISK,\n",
    "    \"default.sqlite3\",\n",
    "]\n",
    "for database in databases:\n",
    "    shutil.copyfile(DATABASE_LOCATION / database, DEMO_DATABASE_LOCATION / database)"
   ]
  },
  {
   "cell_type": "code",
   "execution_count": null,
   "metadata": {},
   "outputs": [],
   "source": [
    "# load symbols\n",
    "symbols = list(pd.read_csv(SYMBOL_LIST_LOC, header=None)[0])\n",
    "\n",
    "table_to_db_map = {\n",
    "    \"raw_price_data\": RAW_DATA_DB,\n",
    "    \"returns\": RETURN_DB,\n",
    "    \"exposures\": FACTOR_MODEL_ESTIMATES,\n",
    "    \"specific_returns\": FACTOR_MODEL_ESTIMATES,\n",
    "}"
   ]
  },
  {
   "cell_type": "code",
   "execution_count": 36,
   "metadata": {},
   "outputs": [
    {
     "name": "stdout",
     "output_type": "stream",
     "text": [
      ">>> table name: raw_price_data\n",
      "original length: 22834\n",
      "updated length: 22834\n",
      ">>> table name: returns\n",
      "original length: 22814\n",
      "updated length: 22814\n",
      ">>> table name: exposures\n",
      "original length: 20587\n",
      "updated length: 20587\n",
      ">>> table name: specific_returns\n",
      "original length: 20587\n",
      "updated length: 20587\n"
     ]
    }
   ],
   "source": [
    "# restrict the relevant datatables...\n",
    "for table in table_to_db_map.keys():\n",
    "    with sqlite3.connect(DEMO_DATABASE_LOCATION / table_to_db_map[table]) as conn:\n",
    "        df = pd.read_sql(f\"select * from {table}\", conn)\n",
    "        print(f\">>> table name: {table}\")\n",
    "        print(f\"original length: {len(df)}\")\n",
    "        df = df[df[\"symbol\"].isin(symbols)]\n",
    "        conn.execute(f\"DROP TABLE IF EXISTS {table}\")\n",
    "        print(f\"updated length: {len(df)}\")\n",
    "        df.to_sql(table, conn, if_exists=\"replace\", index=False)\n",
    "        conn.execute(\"VACUUM\")"
   ]
  },
  {
   "cell_type": "code",
   "execution_count": null,
   "metadata": {},
   "outputs": [],
   "source": []
  }
 ],
 "metadata": {
  "kernelspec": {
   "display_name": "crypto_env",
   "language": "python",
   "name": "python3"
  },
  "language_info": {
   "codemirror_mode": {
    "name": "ipython",
    "version": 3
   },
   "file_extension": ".py",
   "mimetype": "text/x-python",
   "name": "python",
   "nbconvert_exporter": "python",
   "pygments_lexer": "ipython3",
   "version": "3.12.6"
  }
 },
 "nbformat": 4,
 "nbformat_minor": 2
}
