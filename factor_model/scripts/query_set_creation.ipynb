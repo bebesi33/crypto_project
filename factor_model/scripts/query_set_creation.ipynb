{
 "cells": [
  {
   "cell_type": "code",
   "execution_count": 50,
   "metadata": {},
   "outputs": [],
   "source": [
    "import sys\n",
    "import os\n",
    "import pandas as pd\n",
    "import numpy as np\n",
    "sys.path.insert(0, r\"K:/Thesis/codes/crypto_project\")\n",
    "sys.path.insert(0, r\"E:/Thesis/crypto_project\")"
   ]
  },
  {
   "cell_type": "code",
   "execution_count": 2,
   "metadata": {},
   "outputs": [],
   "source": [
    "os.environ.setdefault(\"DJANGO_SETTINGS_MODULE\", \"database_server.settings\")\n",
    "os.environ[\"DJANGO_ALLOW_ASYNC_UNSAFE\"] = \"true\"\n",
    "import django\n",
    "\n",
    "django.setup()"
   ]
  },
  {
   "cell_type": "code",
   "execution_count": 35,
   "metadata": {},
   "outputs": [],
   "source": [
    "from crypto_calculator.models import RawPriceData\n",
    "from  crypto_calculator.serializers import RawPriceDataSerializer\n",
    "from crypto_calculator.models import FactorReturns\n",
    "from crypto_calculator.models import Exposures\n"
   ]
  },
  {
   "cell_type": "code",
   "execution_count": 51,
   "metadata": {},
   "outputs": [],
   "source": [
    "from crypto_calculator.sample_risk_input import portfolio_details, market_portfolio, risk_calculation_parameters\n",
    "\n",
    "from factor_model.risk_calculations.core_universe_portfolio import generate_market_portfolio\n",
    "from crypto_calculator.risk_calc_request_processing import get_factor_return_data, get_exposures, get_specific_returns\n",
    "from factor_model.risk_calculations.factor_covariance import generate_factor_covariance_matrix\n",
    "from factor_model.risk_calculations.risk_attribution import generate_active_space_portfolio\n",
    "from factor_model.risk_calculations.risk_attribution import calculate_spec_risk_mctr, create_portfolio_exposures, generate_factor_covariance_attribution, generate_factor_covariance_table, get_specific_risk_beta\n",
    "from factor_model.risk_calculations.risk_metrics import calculate_lognormal_es_var\n",
    "from factor_model.risk_calculations.specific_risk import generate_raw_portfolio_specific_risk, generate_raw_specific_risk\n",
    "from factor_model.model_update.database_generators import EXPOSURE_NON_STYLE_FIELDS\n",
    "\n"
   ]
  },
  {
   "cell_type": "code",
   "execution_count": 52,
   "metadata": {},
   "outputs": [],
   "source": [
    "# Step 1: cob_date and basic queries\n",
    "cob_date = risk_calculation_parameters[\"date\"]\n",
    "exposures = get_exposures(cob_date=cob_date)\n",
    "\n",
    "if market_portfolio is None:\n",
    "    market_portfolio = generate_market_portfolio(exposures)\n",
    "\n",
    "all_tickers = list(set(market_portfolio.keys()).union(set(portfolio_details.keys())))\n",
    "full_specific_returns = get_specific_returns(cob_date=cob_date, symbols=all_tickers)\n",
    "factor_returns = get_factor_return_data(cob_date=cob_date)\n",
    "\n",
    "# Step 2: calculate risk\n",
    "factor_covariance = generate_factor_covariance_matrix(factor_returns, risk_calculation_parameters)\n",
    "active_space_port = generate_active_space_portfolio(portfolio_details, market_portfolio)\n",
    "\n",
    "portolios = {\n",
    "    \"portfolio\": portfolio_details,\n",
    "    \"market\": market_portfolio,\n",
    "    \"active\": active_space_port,\n",
    "}\n",
    "\n",
    "port_exposures = {}\n",
    "factor_risks = {}\n",
    "factor_attributions = {}\n",
    "factor_covars = {}\n",
    "raw_specific_risks = {}\n",
    "spec_risk_availabilities = {}\n",
    "spec_risks = {}\n",
    "total_risks = {}\n",
    "factor_mctrs = {}\n",
    "spec_risk_attributions = {}\n",
    "spec_risk_var_decomps = {}\n",
    "spec_risk_mctrs = {}\n",
    "for port in portolios.keys():\n",
    "    # 1. exposure calc\n",
    "    port_exposures[port] = create_portfolio_exposures(\n",
    "        exposures=exposures, portfolio_details=portolios[port], non_style_fields=EXPOSURE_NON_STYLE_FIELDS\n",
    "    )\n",
    "    port_exposures[port] = port_exposures[port].reindex(factor_covariance.index)\n",
    "    # 2. factor risk related\n",
    "    (\n",
    "        factor_risks[port],\n",
    "        factor_attributions[port],\n",
    "    ) = generate_factor_covariance_attribution(port_exposures[port], factor_covariance)\n",
    "    factor_covars[port] = generate_factor_covariance_table(\n",
    "        port_exposures[port], factor_covariance\n",
    "    )\n",
    "    # 3. spec risk related\n",
    "    (\n",
    "        raw_specific_risks[port],\n",
    "        spec_risk_availabilities[port],\n",
    "    ) = generate_raw_specific_risk(\n",
    "        full_specific_returns, risk_calculation_parameters, portolios[port]\n",
    "    )\n",
    "    spec_risks[port] = generate_raw_portfolio_specific_risk(raw_specific_risks[port], portolios[port])\n",
    "    total_risks[port] = np.sqrt(factor_risks[port]**2 + spec_risks[port]**2)\n",
    "    \n",
    "    factor_mctrs[port] = factor_attributions[port]/total_risks[port]\n",
    "    spec_risk_attributions[port], spec_risk_var_decomps[port] = calculate_spec_risk_mctr(raw_specific_risks[port], portolios[port])\n",
    "    spec_risk_mctrs[port] = spec_risk_attributions[port] / total_risks[port]\n",
    "    \n",
    "# 4. beta calculation...\n",
    "factor_beta_covar, _ = generate_factor_covariance_attribution(port_exposures[\"portfolio\"], factor_covariance, port_exposures[\"market\"])\n",
    "spec_risk_covar = get_specific_risk_beta(portolios[\"portfolio\"], market_portfolio=portolios[\"market\"], spec_risk= raw_specific_risks[\"active\"])\n",
    "portfolio_beta = (factor_beta_covar**2 + spec_risk_covar)/(total_risks[\"market\"]**2)\n",
    "\n",
    "# 5. expected shortfall calculation assuming normality, 1 Day\n",
    "es95, var95 = calculate_lognormal_es_var(total_risks[\"portfolio\"], 0.95)\n",
    "es99, var99 = calculate_lognormal_es_var(total_risks[\"portfolio\"], 0.99)\n"
   ]
  },
  {
   "cell_type": "code",
   "execution_count": 69,
   "metadata": {},
   "outputs": [],
   "source": [
    "# 6. assemble output\n",
    "risk_categories = ['Total Risk (portfolio)', \"Total Risk (market)\", \"Total Risk (active)\",\n",
    "              'Factor Risk (portfolio)', 'Factor Risk (active)',\n",
    "              'Specific Risk (portfolio)', 'Specific Risk (active)']\n",
    "risk_values = [total_risks[\"portfolio\"]*100, total_risks[\"market\"]*100, total_risks[\"active\"]*100,\n",
    "          factor_risks[\"portfolio\"]*100, factor_risks[\"active\"]*100,\n",
    "          spec_risks[\"portfolio\"]*100, spec_risks[\"active\"]*100\n",
    "          ]\n",
    "risk_metrics = dict(zip(risk_categories, risk_values))\n",
    "\n",
    "risk_metrics_extended = risk_metrics.copy()\n",
    "risk_metrics_extended[\"portfolio Beta\"] = portfolio_beta*100\n",
    "risk_metrics_extended[\"portfolio VaR (1-day, 95%, total space)\"] = var95*100\n",
    "risk_metrics_extended[\"portfolio ES (1-day, 95%, total space)\"] = es95*100\n",
    "risk_metrics_extended[\"portfolio VaR (1-day, 99%, total space)\"] = var99*100\n",
    "risk_metrics_extended[\"portfolio ES (1-day, 99%, total space)\"] = es99*100\n",
    "for key in risk_metrics_extended.keys():\n",
    "    risk_metrics_extended[key] = np.round(risk_metrics_extended[key], decimals=3)"
   ]
  },
  {
   "cell_type": "code",
   "execution_count": 70,
   "metadata": {},
   "outputs": [
    {
     "data": {
      "text/plain": [
       "{'Total Risk (portfolio)': 4.253,\n",
       " 'Total Risk (market)': 3.683,\n",
       " 'Total Risk (active)': 12.151,\n",
       " 'Factor Risk (portfolio)': 3.339,\n",
       " 'Factor Risk (active)': 5.682,\n",
       " 'Specific Risk (portfolio)': 2.635,\n",
       " 'Specific Risk (active)': 10.741,\n",
       " 'portfolio Beta': 88.342,\n",
       " 'portfolio VaR (1-day, 95%, total space)': 6.757,\n",
       " 'portfolio ES (1-day, 95%, total space)': 8.388,\n",
       " 'portfolio VaR (1-day, 99%, total space)': 9.421,\n",
       " 'portfolio ES (1-day, 99%, total space)': 10.709}"
      ]
     },
     "execution_count": 70,
     "metadata": {},
     "output_type": "execute_result"
    }
   ],
   "source": [
    "risk_metrics_extended"
   ]
  },
  {
   "cell_type": "code",
   "execution_count": null,
   "metadata": {},
   "outputs": [],
   "source": []
  }
 ],
 "metadata": {
  "kernelspec": {
   "display_name": "base",
   "language": "python",
   "name": "python3"
  },
  "language_info": {
   "codemirror_mode": {
    "name": "ipython",
    "version": 3
   },
   "file_extension": ".py",
   "mimetype": "text/x-python",
   "name": "python",
   "nbconvert_exporter": "python",
   "pygments_lexer": "ipython3",
   "version": "3.9.7"
  }
 },
 "nbformat": 4,
 "nbformat_minor": 2
}
