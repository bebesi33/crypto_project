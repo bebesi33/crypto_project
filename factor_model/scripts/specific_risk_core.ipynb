{
 "cells": [
  {
   "cell_type": "code",
   "execution_count": 42,
   "metadata": {},
   "outputs": [],
   "source": [
    "import sys\n",
    "sys.path.insert(0, r\"K:/Thesis/codes/crypto_project\")\n",
    "sys.path.insert(0, r\"E:/Thesis/crypto_project\")\n",
    "import os\n",
    "import sqlite3\n",
    "import pandas as pd\n",
    "from tqdm.notebook import tqdm\n",
    "import matplotlib.pyplot as plt\n",
    "from factor_model.model_update.database_generators.generate_databases import refresh_database\n",
    "\n",
    "DATABASE_LOCATION = r\"E:/Thesis/database\"\n",
    "from factor_model.model_update.database_generators import (\n",
    "    FACTOR_MODEL_ESTIMATES,\n",
    "    FIX_SET_OF_HALF_LIFES,\n",
    "    SPECIFIC_RISK\n",
    ")\n"
   ]
  },
  {
   "cell_type": "code",
   "execution_count": 28,
   "metadata": {},
   "outputs": [],
   "source": [
    "from factor_model.risk_calculations.specific_risk import (\n",
    "    generate_raw_portfolio_specific_risk\n",
    ")\n",
    "from factor_model.risk_calculations.core_universe_portfolio import generate_market_portfolio"
   ]
  },
  {
   "cell_type": "code",
   "execution_count": 29,
   "metadata": {},
   "outputs": [],
   "source": [
    "with sqlite3.connect(os.path.join(DATABASE_LOCATION, FACTOR_MODEL_ESTIMATES)) as conn:\n",
    "    full_specific_returns = pd.read_sql_query(f\"SELECT * FROM specific_returns\", conn)\n",
    "\n",
    "with sqlite3.connect(\n",
    "    os.path.join(DATABASE_LOCATION, FACTOR_MODEL_ESTIMATES)\n",
    ") as conn:\n",
    "    estim_universe = pd.read_sql_query(\n",
    "        f\"SELECT ticker, transformed_market_cap, date, core_universe FROM exposures where core_universe > 0\",\n",
    "        conn,\n",
    "    )"
   ]
  },
  {
   "cell_type": "code",
   "execution_count": 30,
   "metadata": {},
   "outputs": [],
   "source": [
    "full_specific_returns = full_specific_returns[full_specific_returns[\"ticker\"].isin(\n",
    "    list(set(estim_universe[estim_universe[\"core_universe\"]>0][\"ticker\"]))\n",
    ")].copy()"
   ]
  },
  {
   "cell_type": "code",
   "execution_count": 31,
   "metadata": {},
   "outputs": [],
   "source": [
    "dates = list(full_specific_returns[\"date\"].unique())[1:]\n",
    "risk_calculation_parameters = {\n",
    "    \"correlation_half_life\": 730,  # days\n",
    "    \"variance_half_life\": 365,  # days\n",
    "    \"specific_risk_half_life\": 365,\n",
    "    \"date\": \"2023-03-04\",\n",
    "    \"minimum_history_spec_ret\": 730\n",
    "}"
   ]
  },
  {
   "cell_type": "code",
   "execution_count": 32,
   "metadata": {},
   "outputs": [],
   "source": [
    "def multi_process_calc(temp_half_life):\n",
    "    risk_calculation_parameters = {\"specific_risk_half_life\": temp_half_life}\n",
    "    risk_for_half_life = full_specific_returns.groupby(\"ticker\").apply(\n",
    "        lambda group: pd.DataFrame({\n",
    "            'date': group['date'],\n",
    "            'specific_risk': group['specific_return']\n",
    "                .ewm(halflife=risk_calculation_parameters['specific_risk_half_life'])\n",
    "                .std(),\n",
    "            'symbol': group['ticker'].iloc[0]\n",
    "        })\n",
    "    )\n",
    "    return risk_for_half_life.reset_index(drop=True)"
   ]
  },
  {
   "cell_type": "code",
   "execution_count": 33,
   "metadata": {},
   "outputs": [
    {
     "data": {
      "application/vnd.jupyter.widget-view+json": {
       "model_id": "42dde18832e84bbb94e2a09dc18a0949",
       "version_major": 2,
       "version_minor": 0
      },
      "text/plain": [
       "  0%|          | 0/38 [00:00<?, ?it/s]"
      ]
     },
     "metadata": {},
     "output_type": "display_data"
    }
   ],
   "source": [
    "all_core_spec_risk = {}\n",
    "\n",
    "for temp_half_life in tqdm(FIX_SET_OF_HALF_LIFES):\n",
    "    all_core_spec_risk[temp_half_life] = multi_process_calc(temp_half_life)\n",
    "    all_core_spec_risk[temp_half_life].set_index([\"date\", \"symbol\"],inplace=True)"
   ]
  },
  {
   "cell_type": "code",
   "execution_count": 34,
   "metadata": {},
   "outputs": [],
   "source": [
    "# for key in tqdm(all_core_spec_risk.keys()):\n",
    "#     all_core_spec_risk[key].to_csv( os.path.join(DATABASE_LOCATION, f\"core_spec_risk_{key}.csv\"), index=False)"
   ]
  },
  {
   "cell_type": "code",
   "execution_count": 35,
   "metadata": {},
   "outputs": [],
   "source": [
    "# all_core_spec_risk = dict()\n",
    "# for key in FIX_SET_OF_HALF_LIFES:\n",
    "#     all_core_spec_risk[key].pd.read_csv(os.path.join(DATABASE_LOCATION, f\"core_spec_risk_{key}.csv\"))\n",
    "#     all_core_spec_risk[key].set_index([\"date\", \"symbol\"],inplace=True)"
   ]
  },
  {
   "cell_type": "code",
   "execution_count": 36,
   "metadata": {},
   "outputs": [],
   "source": [
    "estim_universe_dict = {date: df for date, df in estim_universe.groupby(\"date\")}\n",
    "for key in all_core_spec_risk.keys():\n",
    "    all_core_spec_risk[key] = {date: df for date, df in all_core_spec_risk[key].groupby(\"date\")}"
   ]
  },
  {
   "cell_type": "code",
   "execution_count": 37,
   "metadata": {},
   "outputs": [
    {
     "data": {
      "application/vnd.jupyter.widget-view+json": {
       "model_id": "34b4935af50248ea874160f387bfc8f7",
       "version_major": 2,
       "version_minor": 0
      },
      "text/plain": [
       "  0%|          | 0/2314 [00:00<?, ?it/s]"
      ]
     },
     "metadata": {},
     "output_type": "display_data"
    }
   ],
   "source": [
    "all_combined_specific_risk_estimates = list()\n",
    "\n",
    "for date in tqdm(dates):\n",
    "    # 1. gather exposures\n",
    "    exposure = estim_universe_dict[date]\n",
    "    # 2. identify universe_info\n",
    "    market_portfolio = generate_market_portfolio(exposure)\n",
    "\n",
    "    for half_life in FIX_SET_OF_HALF_LIFES:\n",
    "        # 3. grab relevant spec risks\n",
    "        tempd_df = all_core_spec_risk[half_life][date]\n",
    "        tempd_df.reset_index(inplace=True)\n",
    "        tempd_df.set_index(\"symbol\", inplace=True)\n",
    "        tempd_df.dropna(inplace=True)\n",
    "\n",
    "        all_combined_specific_risk_estimates.append(\n",
    "            pd.DataFrame(\n",
    "                {\n",
    "                    \"date\": [date],\n",
    "                    \"half_life\": [half_life],\n",
    "                    \"specific_risk\": generate_raw_portfolio_specific_risk(\n",
    "                        tempd_df.to_dict()[\"specific_risk\"], market_portfolio\n",
    "                    ),\n",
    "                }\n",
    "            )\n",
    "        )"
   ]
  },
  {
   "cell_type": "code",
   "execution_count": 38,
   "metadata": {},
   "outputs": [],
   "source": [
    "combined_spec_risk = pd.concat(all_combined_specific_risk_estimates)"
   ]
  },
  {
   "cell_type": "code",
   "execution_count": 46,
   "metadata": {},
   "outputs": [],
   "source": [
    "refresh_database(\n",
    "    symbol_level_data={str(date): combined_spec_risk},\n",
    "    database_location=DATABASE_LOCATION,\n",
    "    database_name=SPECIFIC_RISK,\n",
    "    database_table_name=\"core_specific_risk\",\n",
    "    delete_database=True,\n",
    "    key_field_name=\"version_date\",\n",
    "    update_mode=\"append\",\n",
    ")"
   ]
  },
  {
   "cell_type": "code",
   "execution_count": null,
   "metadata": {},
   "outputs": [],
   "source": []
  }
 ],
 "metadata": {
  "kernelspec": {
   "display_name": "base",
   "language": "python",
   "name": "python3"
  },
  "language_info": {
   "codemirror_mode": {
    "name": "ipython",
    "version": 3
   },
   "file_extension": ".py",
   "mimetype": "text/x-python",
   "name": "python",
   "nbconvert_exporter": "python",
   "pygments_lexer": "ipython3",
   "version": "3.9.7"
  }
 },
 "nbformat": 4,
 "nbformat_minor": 2
}
