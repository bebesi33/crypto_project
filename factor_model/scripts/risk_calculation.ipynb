{
 "cells": [
  {
   "cell_type": "code",
   "execution_count": 5,
   "metadata": {},
   "outputs": [],
   "source": [
    "import sys\n",
    "sys.path.insert(0, r\"K:/Thesis/codes/crypto_project\")\n",
    "sys.path.insert(0, r\"E:/Thesis/crypto_project\")\n",
    "import os\n",
    "import sqlite3\n",
    "import pandas as pd\n",
    "\n",
    "DATABASE_LOCATION = r\"E:/Thesis/database\"\n",
    "from factor_model.model_update.database_generators import (\n",
    "    RAW_DATA_DB,\n",
    "    RETURN_DB,\n",
    "    FACTOR_MODEL_ESTIMATES\n",
    ")\n",
    "from typing import Dict\n"
   ]
  },
  {
   "cell_type": "code",
   "execution_count": 60,
   "metadata": {},
   "outputs": [],
   "source": [
    "from factor_model.risk_calculations.factor_covariance import (\n",
    "    get_factor_return_correlation,\n",
    "    get_factor_return_standard_deviation\n",
    ")\n"
   ]
  },
  {
   "cell_type": "markdown",
   "metadata": {},
   "source": [
    "#### 0. Parameters"
   ]
  },
  {
   "cell_type": "code",
   "execution_count": 15,
   "metadata": {},
   "outputs": [],
   "source": [
    "risk_calculation_parameters = {\n",
    "    \"correlation_half_life\": 730,  # days\n",
    "    \"variance_half_life\": 365,  # days\n",
    "    \"specific_risk_half_life\": 365,\n",
    "    \"date\": \"2023-03-04\"\n",
    "}"
   ]
  },
  {
   "cell_type": "markdown",
   "metadata": {},
   "source": [
    "#### 1. Load the factor returns"
   ]
  },
  {
   "cell_type": "code",
   "execution_count": 17,
   "metadata": {},
   "outputs": [],
   "source": [
    "with sqlite3.connect(os.path.join(DATABASE_LOCATION, FACTOR_MODEL_ESTIMATES)) as conn:\n",
    "    factor_returns = pd.read_sql_query(\"SELECT * FROM factor_returns\", conn)"
   ]
  },
  {
   "cell_type": "markdown",
   "metadata": {},
   "source": [
    "#### 2. factor covariance related calculations"
   ]
  },
  {
   "cell_type": "code",
   "execution_count": 61,
   "metadata": {},
   "outputs": [
    {
     "data": {
      "text/html": [
       "<div>\n",
       "<style scoped>\n",
       "    .dataframe tbody tr th:only-of-type {\n",
       "        vertical-align: middle;\n",
       "    }\n",
       "\n",
       "    .dataframe tbody tr th {\n",
       "        vertical-align: top;\n",
       "    }\n",
       "\n",
       "    .dataframe thead th {\n",
       "        text-align: right;\n",
       "    }\n",
       "</style>\n",
       "<table border=\"1\" class=\"dataframe\">\n",
       "  <thead>\n",
       "    <tr style=\"text-align: right;\">\n",
       "      <th></th>\n",
       "      <th></th>\n",
       "      <th>market</th>\n",
       "      <th>momentum</th>\n",
       "      <th>new_coin</th>\n",
       "      <th>reversal</th>\n",
       "      <th>size</th>\n",
       "      <th>volume</th>\n",
       "    </tr>\n",
       "  </thead>\n",
       "  <tbody>\n",
       "    <tr>\n",
       "      <th rowspan=\"6\" valign=\"top\">1765</th>\n",
       "      <th>market</th>\n",
       "      <td>1.000000</td>\n",
       "      <td>0.020237</td>\n",
       "      <td>-0.227545</td>\n",
       "      <td>-0.048430</td>\n",
       "      <td>0.303360</td>\n",
       "      <td>-0.730431</td>\n",
       "    </tr>\n",
       "    <tr>\n",
       "      <th>momentum</th>\n",
       "      <td>0.020237</td>\n",
       "      <td>1.000000</td>\n",
       "      <td>0.082769</td>\n",
       "      <td>-0.265184</td>\n",
       "      <td>-0.097476</td>\n",
       "      <td>0.053568</td>\n",
       "    </tr>\n",
       "    <tr>\n",
       "      <th>new_coin</th>\n",
       "      <td>-0.227545</td>\n",
       "      <td>0.082769</td>\n",
       "      <td>1.000000</td>\n",
       "      <td>0.104668</td>\n",
       "      <td>0.037091</td>\n",
       "      <td>0.406697</td>\n",
       "    </tr>\n",
       "    <tr>\n",
       "      <th>reversal</th>\n",
       "      <td>-0.048430</td>\n",
       "      <td>-0.265184</td>\n",
       "      <td>0.104668</td>\n",
       "      <td>1.000000</td>\n",
       "      <td>0.027737</td>\n",
       "      <td>0.041279</td>\n",
       "    </tr>\n",
       "    <tr>\n",
       "      <th>size</th>\n",
       "      <td>0.303360</td>\n",
       "      <td>-0.097476</td>\n",
       "      <td>0.037091</td>\n",
       "      <td>0.027737</td>\n",
       "      <td>1.000000</td>\n",
       "      <td>-0.592027</td>\n",
       "    </tr>\n",
       "    <tr>\n",
       "      <th>volume</th>\n",
       "      <td>-0.730431</td>\n",
       "      <td>0.053568</td>\n",
       "      <td>0.406697</td>\n",
       "      <td>0.041279</td>\n",
       "      <td>-0.592027</td>\n",
       "      <td>1.000000</td>\n",
       "    </tr>\n",
       "  </tbody>\n",
       "</table>\n",
       "</div>"
      ],
      "text/plain": [
       "                 market  momentum  new_coin  reversal      size    volume\n",
       "1765 market    1.000000  0.020237 -0.227545 -0.048430  0.303360 -0.730431\n",
       "     momentum  0.020237  1.000000  0.082769 -0.265184 -0.097476  0.053568\n",
       "     new_coin -0.227545  0.082769  1.000000  0.104668  0.037091  0.406697\n",
       "     reversal -0.048430 -0.265184  0.104668  1.000000  0.027737  0.041279\n",
       "     size      0.303360 -0.097476  0.037091  0.027737  1.000000 -0.592027\n",
       "     volume   -0.730431  0.053568  0.406697  0.041279 -0.592027  1.000000"
      ]
     },
     "metadata": {},
     "output_type": "display_data"
    }
   ],
   "source": [
    "correlation = get_factor_return_correlation(factor_returns, risk_calculation_parameters)\n",
    "display(correlation)"
   ]
  },
  {
   "cell_type": "code",
   "execution_count": 62,
   "metadata": {},
   "outputs": [],
   "source": [
    "parameters = risk_calculation_parameters\n",
    "NON_FACTOR_COLUMNS = [\"id\", \"date\", \"version_date\"]\n"
   ]
  },
  {
   "cell_type": "code",
   "execution_count": 73,
   "metadata": {},
   "outputs": [],
   "source": [
    "std = get_factor_return_standard_deviation(factor_returns, risk_calculation_parameters)\n"
   ]
  },
  {
   "cell_type": "code",
   "execution_count": 75,
   "metadata": {},
   "outputs": [],
   "source": [
    "factor_returns = pd.DataFrame({\n",
    "    \"date\": [\"2024-03-08\", \"2024-03-09\", \"2024-03-10\"],\n",
    "    \"factor1\": [0.02, 0.03, 0.01],\n",
    "    \"factor2\": [0.015, 0.0125, 0.03212]\n",
    "})\n",
    "\n",
    "parameters = {\n",
    "    \"date\": \"2024-03-09\",\n",
    "    \"variance_half_life\": 3\n",
    "}\n",
    "\n",
    "result = get_factor_return_standard_deviation(factor_returns, parameters)\n"
   ]
  },
  {
   "cell_type": "code",
   "execution_count": 76,
   "metadata": {},
   "outputs": [
    {
     "data": {
      "text/plain": [
       "factor1    0.007071\n",
       "factor2    0.007071\n",
       "dtype: float64"
      ]
     },
     "execution_count": 76,
     "metadata": {},
     "output_type": "execute_result"
    }
   ],
   "source": [
    "result"
   ]
  },
  {
   "cell_type": "code",
   "execution_count": null,
   "metadata": {},
   "outputs": [],
   "source": []
  },
  {
   "cell_type": "code",
   "execution_count": 57,
   "metadata": {},
   "outputs": [],
   "source": [
    "factor_returns_data3 = pd.DataFrame(\n",
    "            {\n",
    "                \"date\": [\"2024-03-01\", \"2024-03-02\", \"2024-03-03\"],\n",
    "                \"factor1\": [0.01, 0.02, 0.03],\n",
    "                \"factor2\": [-0.02, 0.01, 0.02],\n",
    "            })"
   ]
  },
  {
   "cell_type": "code",
   "execution_count": 59,
   "metadata": {},
   "outputs": [],
   "source": [
    "params = {\"date\": \"2024-03-03\", \"correlation_half_life\": 0.001}\n",
    "result = get_factor_return_correlation(factor_returns_data3, params)"
   ]
  },
  {
   "cell_type": "code",
   "execution_count": 54,
   "metadata": {},
   "outputs": [
    {
     "data": {
      "text/html": [
       "<div>\n",
       "<style scoped>\n",
       "    .dataframe tbody tr th:only-of-type {\n",
       "        vertical-align: middle;\n",
       "    }\n",
       "\n",
       "    .dataframe tbody tr th {\n",
       "        vertical-align: top;\n",
       "    }\n",
       "\n",
       "    .dataframe thead th {\n",
       "        text-align: right;\n",
       "    }\n",
       "</style>\n",
       "<table border=\"1\" class=\"dataframe\">\n",
       "  <thead>\n",
       "    <tr style=\"text-align: right;\">\n",
       "      <th></th>\n",
       "      <th></th>\n",
       "      <th>factor1</th>\n",
       "      <th>factor2</th>\n",
       "    </tr>\n",
       "  </thead>\n",
       "  <tbody>\n",
       "    <tr>\n",
       "      <th rowspan=\"2\" valign=\"top\">2</th>\n",
       "      <th>factor1</th>\n",
       "      <td>1.000000</td>\n",
       "      <td>0.959901</td>\n",
       "    </tr>\n",
       "    <tr>\n",
       "      <th>factor2</th>\n",
       "      <td>0.959901</td>\n",
       "      <td>1.000000</td>\n",
       "    </tr>\n",
       "  </tbody>\n",
       "</table>\n",
       "</div>"
      ],
      "text/plain": [
       "            factor1   factor2\n",
       "2 factor1  1.000000  0.959901\n",
       "  factor2  0.959901  1.000000"
      ]
     },
     "execution_count": 54,
     "metadata": {},
     "output_type": "execute_result"
    }
   ],
   "source": [
    "result"
   ]
  },
  {
   "cell_type": "code",
   "execution_count": 56,
   "metadata": {},
   "outputs": [
    {
     "data": {
      "text/plain": [
       "True"
      ]
     },
     "execution_count": 56,
     "metadata": {},
     "output_type": "execute_result"
    }
   ],
   "source": [
    "abs(result[\"factor2\"].values[0] - 0.95990131006)<0.000001 "
   ]
  },
  {
   "cell_type": "code",
   "execution_count": null,
   "metadata": {},
   "outputs": [],
   "source": []
  }
 ],
 "metadata": {
  "kernelspec": {
   "display_name": "base",
   "language": "python",
   "name": "python3"
  },
  "language_info": {
   "codemirror_mode": {
    "name": "ipython",
    "version": 3
   },
   "file_extension": ".py",
   "mimetype": "text/x-python",
   "name": "python",
   "nbconvert_exporter": "python",
   "pygments_lexer": "ipython3",
   "version": "3.9.7"
  }
 },
 "nbformat": 4,
 "nbformat_minor": 2
}
