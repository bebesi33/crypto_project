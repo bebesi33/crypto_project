{
 "cells": [
  {
   "cell_type": "code",
   "execution_count": 5,
   "metadata": {},
   "outputs": [],
   "source": [
    "import sys\n",
    "sys.path.insert(0, r\"K:/Thesis/codes/crypto_project\")\n",
    "sys.path.insert(0, r\"E:/Thesis/crypto_project\")\n",
    "import os\n",
    "import sqlite3\n",
    "import pandas as pd\n",
    "\n",
    "DATABASE_LOCATION = r\"E:/Thesis/database\"\n",
    "from factor_model.model_update.database_generators import (\n",
    "    RAW_DATA_DB,\n",
    "    RETURN_DB,\n",
    "    FACTOR_MODEL_ESTIMATES\n",
    ")\n",
    "from typing import Dict\n"
   ]
  },
  {
   "cell_type": "markdown",
   "metadata": {},
   "source": [
    "#### 0. Parameters"
   ]
  },
  {
   "cell_type": "code",
   "execution_count": 15,
   "metadata": {},
   "outputs": [],
   "source": [
    "risk_calculation_parameters = {\n",
    "    \"correlation_half_life\": 730,  # days\n",
    "    \"variance_half_life\": 365,  # days\n",
    "    \"specific_risk_half_life\": 365,\n",
    "    \"date\": \"2023-03-04\"\n",
    "}"
   ]
  },
  {
   "cell_type": "markdown",
   "metadata": {},
   "source": [
    "#### 1. Load the factor returns"
   ]
  },
  {
   "cell_type": "code",
   "execution_count": 17,
   "metadata": {},
   "outputs": [],
   "source": [
    "with sqlite3.connect(os.path.join(DATABASE_LOCATION, FACTOR_MODEL_ESTIMATES)) as conn:\n",
    "    factor_returns = pd.read_sql_query(\"SELECT * FROM factor_returns\", conn)"
   ]
  },
  {
   "cell_type": "code",
   "execution_count": 47,
   "metadata": {},
   "outputs": [],
   "source": [
    "from typing import Dict\n",
    "\n",
    "NON_FACTOR_COLUMNS = [\"id\", \"date\", \"version_date\"]\n",
    "\n",
    "\n",
    "def get_factor_return_correlation(\n",
    "    factor_returns: pd.DataFrame, parameters: Dict\n",
    ") -> pd.DataFrame:\n",
    "    \"\"\"\n",
    "    Calculates the exponentially weighted moving average (EWMA) correlation matrix\n",
    "    for factor returns based on specified parameters.\n",
    "    The correlation matrix is only reported for the specified date\n",
    "\n",
    "    Args:\n",
    "        factor_returns (pd.DataFrame): DataFrame containing factor returns.\n",
    "            Columns should include 'date' and the factor returns for each style.\n",
    "        parameters (Dict): A dictionary containing parameters:\n",
    "            - 'date': The cob date for factor return estimation.\n",
    "            - 'correlation_half_life': Half-life for EWMA correlation calculation.\n",
    "\n",
    "    Returns:\n",
    "        pd.DataFrame: EWMA correlation matrix for factor returns.\n",
    "    \"\"\"\n",
    "    factor_return_estim = factor_returns[\n",
    "        factor_returns[\"date\"] <= parameters[\"date\"]\n",
    "    ].copy()\n",
    "    style_columns = sorted(\n",
    "        list(set(factor_return_estim.columns) - set(NON_FACTOR_COLUMNS))\n",
    "    )\n",
    "    return (\n",
    "        factor_return_estim[style_columns]\n",
    "        .ewm(halflife=parameters[\"correlation_half_life\"])\n",
    "        .corr()\n",
    "        .tail(len(style_columns))\n",
    "    )"
   ]
  },
  {
   "cell_type": "code",
   "execution_count": 48,
   "metadata": {},
   "outputs": [
    {
     "data": {
      "text/html": [
       "<div>\n",
       "<style scoped>\n",
       "    .dataframe tbody tr th:only-of-type {\n",
       "        vertical-align: middle;\n",
       "    }\n",
       "\n",
       "    .dataframe tbody tr th {\n",
       "        vertical-align: top;\n",
       "    }\n",
       "\n",
       "    .dataframe thead th {\n",
       "        text-align: right;\n",
       "    }\n",
       "</style>\n",
       "<table border=\"1\" class=\"dataframe\">\n",
       "  <thead>\n",
       "    <tr style=\"text-align: right;\">\n",
       "      <th></th>\n",
       "      <th></th>\n",
       "      <th>market</th>\n",
       "      <th>momentum</th>\n",
       "      <th>new_coin</th>\n",
       "      <th>reversal</th>\n",
       "      <th>size</th>\n",
       "      <th>volume</th>\n",
       "    </tr>\n",
       "  </thead>\n",
       "  <tbody>\n",
       "    <tr>\n",
       "      <th rowspan=\"6\" valign=\"top\">1765</th>\n",
       "      <th>market</th>\n",
       "      <td>1.000000</td>\n",
       "      <td>0.020237</td>\n",
       "      <td>-0.227545</td>\n",
       "      <td>-0.048430</td>\n",
       "      <td>0.303360</td>\n",
       "      <td>-0.730431</td>\n",
       "    </tr>\n",
       "    <tr>\n",
       "      <th>momentum</th>\n",
       "      <td>0.020237</td>\n",
       "      <td>1.000000</td>\n",
       "      <td>0.082769</td>\n",
       "      <td>-0.265184</td>\n",
       "      <td>-0.097476</td>\n",
       "      <td>0.053568</td>\n",
       "    </tr>\n",
       "    <tr>\n",
       "      <th>new_coin</th>\n",
       "      <td>-0.227545</td>\n",
       "      <td>0.082769</td>\n",
       "      <td>1.000000</td>\n",
       "      <td>0.104668</td>\n",
       "      <td>0.037091</td>\n",
       "      <td>0.406697</td>\n",
       "    </tr>\n",
       "    <tr>\n",
       "      <th>reversal</th>\n",
       "      <td>-0.048430</td>\n",
       "      <td>-0.265184</td>\n",
       "      <td>0.104668</td>\n",
       "      <td>1.000000</td>\n",
       "      <td>0.027737</td>\n",
       "      <td>0.041279</td>\n",
       "    </tr>\n",
       "    <tr>\n",
       "      <th>size</th>\n",
       "      <td>0.303360</td>\n",
       "      <td>-0.097476</td>\n",
       "      <td>0.037091</td>\n",
       "      <td>0.027737</td>\n",
       "      <td>1.000000</td>\n",
       "      <td>-0.592027</td>\n",
       "    </tr>\n",
       "    <tr>\n",
       "      <th>volume</th>\n",
       "      <td>-0.730431</td>\n",
       "      <td>0.053568</td>\n",
       "      <td>0.406697</td>\n",
       "      <td>0.041279</td>\n",
       "      <td>-0.592027</td>\n",
       "      <td>1.000000</td>\n",
       "    </tr>\n",
       "  </tbody>\n",
       "</table>\n",
       "</div>"
      ],
      "text/plain": [
       "                 market  momentum  new_coin  reversal      size    volume\n",
       "1765 market    1.000000  0.020237 -0.227545 -0.048430  0.303360 -0.730431\n",
       "     momentum  0.020237  1.000000  0.082769 -0.265184 -0.097476  0.053568\n",
       "     new_coin -0.227545  0.082769  1.000000  0.104668  0.037091  0.406697\n",
       "     reversal -0.048430 -0.265184  0.104668  1.000000  0.027737  0.041279\n",
       "     size      0.303360 -0.097476  0.037091  0.027737  1.000000 -0.592027\n",
       "     volume   -0.730431  0.053568  0.406697  0.041279 -0.592027  1.000000"
      ]
     },
     "metadata": {},
     "output_type": "display_data"
    }
   ],
   "source": [
    "correlation = get_factor_return_correlation(factor_returns, risk_calculation_parameters)\n",
    "display(correlation)"
   ]
  },
  {
   "cell_type": "code",
   "execution_count": null,
   "metadata": {},
   "outputs": [],
   "source": []
  }
 ],
 "metadata": {
  "kernelspec": {
   "display_name": "base",
   "language": "python",
   "name": "python3"
  },
  "language_info": {
   "codemirror_mode": {
    "name": "ipython",
    "version": 3
   },
   "file_extension": ".py",
   "mimetype": "text/x-python",
   "name": "python",
   "nbconvert_exporter": "python",
   "pygments_lexer": "ipython3",
   "version": "3.9.7"
  }
 },
 "nbformat": 4,
 "nbformat_minor": 2
}
