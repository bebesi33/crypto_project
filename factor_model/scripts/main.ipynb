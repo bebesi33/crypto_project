{
 "cells": [
  {
   "cell_type": "code",
   "execution_count": 49,
   "metadata": {},
   "outputs": [],
   "source": [
    "# -*- coding: utf-8 -*-\n",
    "\"\"\"\n",
    "Created on Tue Aug 29 21:39:37 2023\n",
    "\n",
    "@author: Bebesi Laci\n",
    "\"\"\"\n",
    "\n",
    "import sys\n",
    "import os\n",
    "import re\n",
    "import pandas as pd\n",
    "import numpy as np\n",
    "import yfinance as yf\n",
    "import logging\n",
    "import sqlite3\n",
    "from tqdm import tqdm\n",
    "import statsmodels.api as sm\n",
    "\n",
    "sys.path.insert(0, r\"K:/Thesis/codes/crypto_project\")\n",
    "from factor_model.offline_elements.loaders.price_data_loaders import (\n",
    "    generate_ytickets,\n",
    "    generate_price_data_map\n",
    ")\n",
    "from factor_model.offline_elements.loaders.market_cap_loader import (\n",
    "    generate_market_cap_data, generate_market_cap_only\n",
    ")\n",
    "from factor_model.offline_elements.loaders.crypto_coin_loaders import (\n",
    "    get_ticker_list\n",
    ")\n",
    "\n",
    "from factor_model.offline_elements.return_generators.total_return_calculation import generate_return_data\n",
    "from datetime import date, timedelta\n",
    "from factor_model.offline_elements.database_generators.generate_databases import refresh_raw_price_database\n",
    "from factor_model.offline_elements.estimation_universe.estimation_core_universe import generate_estimation_basis\n",
    "from factor_model.offline_elements.styles.return_based import generate_x_month_price_change\n",
    "from factor_model.offline_elements.factor_return_estimation.factor_return_estimation import create_factor_return_data\n",
    "# from analysis.tickers import ticker_list\n",
    "# from analysis.utility import convert_str_numbs_to_float\n",
    "# from analysis.styles.return_based import generate_x_month_momentum\n",
    "# from analysis.market_cap import generate_market_cap_data\n",
    "# from analysis.ticker_basics import generate_ytickets, generate_price_data_map\n",
    "# from analysis.returns import generate_return_data\n",
    "# from analysis.estimation_basis import generate_estimation_basis\n",
    "# from datetime import date, timedelta\n",
    "# import matplotlib.pyplot as plt\n",
    "# import datetime\n",
    "# import statsmodels.api as sm\n",
    "# from analysis.factor_return_dataset import create_factor_return_data, create_expo_from_daily_data\n",
    "# from tqdm import tqdm\n",
    "# import matplotlib.pyplot as plt\n",
    "\n",
    "DATABASE_LOCATION = r\"K:/Thesis/database\"\n",
    "RAW_DATA_DB = \"raw_price_data.db\""
   ]
  },
  {
   "cell_type": "code",
   "execution_count": 43,
   "metadata": {},
   "outputs": [],
   "source": [
    "\n",
    "parameters = {\n",
    "    \"HORIZON\" : \"20y\",\n",
    "    \"ESTIMATION_HORIZON\": int(6.5*365),\n",
    "    \"WEIGHT_FUNCTION\" : np.sqrt,\n",
    "    \"PRESENT_IN_MARKET\" : 3*365,  # trade days, 3 years approx\n",
    "    \"ESTIMATION_DAY\": date.today(),\n",
    "    \"MARKET_CAP_COVERAGE\" : 0.82,\n",
    "    \"NEW_COIN_INCLUSION\": 365,  # after X days\n",
    "    \"REGRESSORS_SET1\": [\"market\", \"size\", \"momentum\", \"reversal\"],\n",
    "    \"REGRESSORS_SET2\": [\"new_coin\"],\n",
    "    \"MONTH_LENGTH\": 30\n",
    "}\n",
    "parameters[\"CORE_UNIV_START\"] = parameters[\"ESTIMATION_DAY\"] - timedelta(parameters[\"PRESENT_IN_MARKET\"])\n"
   ]
  },
  {
   "cell_type": "code",
   "execution_count": 51,
   "metadata": {},
   "outputs": [],
   "source": [
    "tickers = get_ticker_list()\n"
   ]
  },
  {
   "cell_type": "code",
   "execution_count": 34,
   "metadata": {},
   "outputs": [],
   "source": [
    "yfinance_tickers = generate_ytickets(tickers)\n",
    "price_data_map = generate_price_data_map(yfinance_tickers, parameters[\"HORIZON\"])\n",
    "\n",
    "# refresh tickers and throw out those ones, which have no price history\n",
    "drop_keys = list()\n",
    "for key in price_data_map.keys():\n",
    "    if len(price_data_map[key]) < 2:  # minimum number of obs for returns are 2\n",
    "        del yfinance_tickers[key]\n",
    "        drop_keys.append(key)\n",
    "for key in drop_keys:\n",
    "    del price_data_map[key]\n"
   ]
  },
  {
   "cell_type": "code",
   "execution_count": 35,
   "metadata": {},
   "outputs": [],
   "source": [
    "market_cap_df = generate_market_cap_only(yfinance_tickers)\n"
   ]
  },
  {
   "cell_type": "code",
   "execution_count": 52,
   "metadata": {},
   "outputs": [
    {
     "name": "stderr",
     "output_type": "stream",
     "text": [
      "K:/Thesis/codes/crypto_project\\factor_model\\offline_elements\\return_generators\\total_return_calculation.py:10: RuntimeWarning: divide by zero encountered in true_divide\n",
      "  price_data_map[key][\"Close\"].head(-1)\n",
      "K:/Thesis/codes/crypto_project\\factor_model\\offline_elements\\return_generators\\total_return_calculation.py:10: RuntimeWarning: invalid value encountered in true_divide\n",
      "  price_data_map[key][\"Close\"].head(-1)\n"
     ]
    }
   ],
   "source": [
    "return_data_map = generate_return_data(price_data_map)\n",
    "estimation_dates=list(return_data_map[\"BTC-USD\"].tail(parameters[\"ESTIMATION_HORIZON\"])[\"date\"])"
   ]
  },
  {
   "cell_type": "code",
   "execution_count": 37,
   "metadata": {},
   "outputs": [],
   "source": [
    "estimation_dates=list(return_data_map[\"ETC-USD\"].tail(parameters[\"ESTIMATION_HORIZON\"])[\"date\"])"
   ]
  },
  {
   "cell_type": "code",
   "execution_count": 38,
   "metadata": {},
   "outputs": [],
   "source": [
    "# weighting generation and universe\n",
    "market_cap_df[\"transformed_market_cap\"] = parameters[\"WEIGHT_FUNCTION\"](market_cap_df[\"market_cap\"])\n",
    "market_cap_df.sort_values(by = \"transformed_market_cap\", ascending=False, inplace=True)\n",
    "\n",
    "# 0. market cap date \n",
    "market_cap_date = parameters[\"ESTIMATION_DAY\"]\n",
    "estimation_basis, univ_first_appearence = generate_estimation_basis(return_data_map, market_cap_df, market_cap_date, parameters)"
   ]
  },
  {
   "cell_type": "markdown",
   "metadata": {},
   "source": [
    "#### Style generation"
   ]
  },
  {
   "cell_type": "code",
   "execution_count": 45,
   "metadata": {},
   "outputs": [
    {
     "name": "stderr",
     "output_type": "stream",
     "text": [
      "K:/Thesis/codes/crypto_project\\factor_model\\offline_elements\\styles\\return_based.py:12: RuntimeWarning: divide by zero encountered in true_divide\n",
      "  ) / np.matrix(price_data_map[key][\"Close\"].head(-x_len * month_len))\n",
      "K:/Thesis/codes/crypto_project\\factor_model\\offline_elements\\styles\\return_based.py:12: RuntimeWarning: invalid value encountered in true_divide\n",
      "  ) / np.matrix(price_data_map[key][\"Close\"].head(-x_len * month_len))\n"
     ]
    }
   ],
   "source": [
    "momentum_move_map = generate_x_month_price_change(price_data_map,  x_len = 6, month_len = parameters[\"MONTH_LENGTH\"])\n",
    "reversal_map = generate_x_month_price_change(price_data_map,  x_len = 1, month_len = parameters[\"MONTH_LENGTH\"])\n",
    "daily_data_maps = {}\n",
    "daily_data_maps[\"reversal\"] = reversal_map\n",
    "daily_data_maps[\"momentum\"] = momentum_move_map\n",
    "daily_data_maps[\"return\"] = return_data_map\n"
   ]
  },
  {
   "cell_type": "code",
   "execution_count": 53,
   "metadata": {},
   "outputs": [
    {
     "ename": "TypeError",
     "evalue": "'module' object is not callable",
     "output_type": "error",
     "traceback": [
      "\u001b[1;31m---------------------------------------------------------------------------\u001b[0m",
      "\u001b[1;31mTypeError\u001b[0m                                 Traceback (most recent call last)",
      "\u001b[1;32m~\\AppData\\Local\\Temp\\ipykernel_5360\\668470937.py\u001b[0m in \u001b[0;36m<module>\u001b[1;34m\u001b[0m\n\u001b[0;32m      2\u001b[0m \u001b[0mcoefficients_all\u001b[0m \u001b[1;33m=\u001b[0m \u001b[0mlist\u001b[0m\u001b[1;33m(\u001b[0m\u001b[1;33m)\u001b[0m\u001b[1;33m\u001b[0m\u001b[1;33m\u001b[0m\u001b[0m\n\u001b[0;32m      3\u001b[0m \u001b[0midx\u001b[0m\u001b[1;33m=\u001b[0m\u001b[1;36m0\u001b[0m\u001b[1;33m\u001b[0m\u001b[1;33m\u001b[0m\u001b[0m\n\u001b[1;32m----> 4\u001b[1;33m \u001b[1;32mfor\u001b[0m \u001b[0mdate\u001b[0m \u001b[1;32min\u001b[0m \u001b[0mtqdm\u001b[0m\u001b[1;33m(\u001b[0m\u001b[0mestimation_dates\u001b[0m\u001b[1;33m)\u001b[0m\u001b[1;33m:\u001b[0m\u001b[1;33m\u001b[0m\u001b[1;33m\u001b[0m\u001b[0m\n\u001b[0m\u001b[0;32m      5\u001b[0m     \u001b[1;31m# step 0 : assemble estimation data\u001b[0m\u001b[1;33m\u001b[0m\u001b[1;33m\u001b[0m\u001b[1;33m\u001b[0m\u001b[0m\n\u001b[0;32m      6\u001b[0m     \u001b[0mfactor_return_data\u001b[0m \u001b[1;33m=\u001b[0m \u001b[0mcreate_factor_return_data\u001b[0m\u001b[1;33m(\u001b[0m\u001b[0mestimation_basis\u001b[0m\u001b[1;33m,\u001b[0m \u001b[0mparameters\u001b[0m\u001b[1;33m,\u001b[0m \u001b[0mdate\u001b[0m\u001b[1;33m,\u001b[0m \u001b[0mdaily_data_maps\u001b[0m\u001b[1;33m)\u001b[0m\u001b[1;33m\u001b[0m\u001b[1;33m\u001b[0m\u001b[0m\n",
      "\u001b[1;31mTypeError\u001b[0m: 'module' object is not callable"
     ]
    }
   ],
   "source": [
    "tstats_all = list()\n",
    "coefficients_all = list()\n",
    "idx=0\n",
    "for date in tqdm(estimation_dates):\n",
    "    # step 0 : assemble estimation data\n",
    "    factor_return_data = create_factor_return_data(estimation_basis, parameters, date, daily_data_maps)\n",
    "\n",
    "    # step 1 estimation\n",
    "    try:\n",
    "        mod_wls = sm.WLS(endog = factor_return_data[\"return\"],\n",
    "                        exog = factor_return_data[parameters[\"REGRESSORS_SET1\"]],\n",
    "                        weights = factor_return_data[\"transformed_market_cap\"]).fit()\n",
    "        # save results\n",
    "        coefficient_date = mod_wls.params.to_frame().T\n",
    "        coefficient_date[\"date\"] = date\n",
    "        coefficients_all.append(coefficient_date)\n",
    "        tstat_date = mod_wls.tvalues.to_frame().T\n",
    "        tstat_date[\"date\"] = date\n",
    "        tstats_all.append(tstat_date)\n",
    "    except:\n",
    "        print(date)\n"
   ]
  },
  {
   "cell_type": "code",
   "execution_count": null,
   "metadata": {},
   "outputs": [],
   "source": []
  },
  {
   "cell_type": "code",
   "execution_count": null,
   "metadata": {},
   "outputs": [],
   "source": []
  },
  {
   "cell_type": "code",
   "execution_count": null,
   "metadata": {},
   "outputs": [],
   "source": []
  },
  {
   "cell_type": "code",
   "execution_count": 66,
   "metadata": {},
   "outputs": [
    {
     "name": "stderr",
     "output_type": "stream",
     "text": [
      "k:\\P375\\lib\\site-packages\\pandas\\core\\generic.py:2882: UserWarning: The spaces in these column names will not be changed. In pandas versions < 0.14, spaces were converted to underscores.\n",
      "  method=method,\n"
     ]
    }
   ],
   "source": [
    "refresh_raw_price_database(price_data_map, DATABASE_LOCATION)"
   ]
  },
  {
   "cell_type": "code",
   "execution_count": 58,
   "metadata": {},
   "outputs": [],
   "source": [
    "with sqlite3.connect(os.path.join(DATABASE_LOCATION, \"RAW_DATA_DB\")) as conn:\n",
    "    df = pd.read_sql_query(\"SELECT * FROM raw_price_data\", conn)\n"
   ]
  }
 ],
 "metadata": {
  "kernelspec": {
   "display_name": "Python 3.7.5 64-bit",
   "language": "python",
   "name": "python3"
  },
  "language_info": {
   "codemirror_mode": {
    "name": "ipython",
    "version": 3
   },
   "file_extension": ".py",
   "mimetype": "text/x-python",
   "name": "python",
   "nbconvert_exporter": "python",
   "pygments_lexer": "ipython3",
   "version": "3.7.5"
  },
  "orig_nbformat": 4,
  "vscode": {
   "interpreter": {
    "hash": "4bd5e7736441d0274e2a1e54642b8e54a1eb3e549b21ef327dd4d3ce64352013"
   }
  }
 },
 "nbformat": 4,
 "nbformat_minor": 2
}
