{
 "cells": [
  {
   "cell_type": "code",
   "execution_count": 64,
   "metadata": {},
   "outputs": [
    {
     "ename": "ImportError",
     "evalue": "cannot import name 'refresh_raw_price_database' from 'factor_model.offline_elements.database_generation.generate_databases' (K:/Thesis/codes/crypto_project\\factor_model\\offline_elements\\database_generation\\generate_databases.py)",
     "output_type": "error",
     "traceback": [
      "\u001b[1;31m---------------------------------------------------------------------------\u001b[0m",
      "\u001b[1;31mImportError\u001b[0m                               Traceback (most recent call last)",
      "\u001b[1;32m~\\AppData\\Local\\Temp\\ipykernel_8608\\3564177061.py\u001b[0m in \u001b[0;36m<module>\u001b[1;34m\u001b[0m\n\u001b[0;32m     25\u001b[0m )\n\u001b[0;32m     26\u001b[0m \u001b[1;32mfrom\u001b[0m \u001b[0mdatetime\u001b[0m \u001b[1;32mimport\u001b[0m \u001b[0mdate\u001b[0m\u001b[1;33m,\u001b[0m \u001b[0mtimedelta\u001b[0m\u001b[1;33m\u001b[0m\u001b[1;33m\u001b[0m\u001b[0m\n\u001b[1;32m---> 27\u001b[1;33m \u001b[1;32mfrom\u001b[0m \u001b[0mfactor_model\u001b[0m\u001b[1;33m.\u001b[0m\u001b[0moffline_elements\u001b[0m\u001b[1;33m.\u001b[0m\u001b[0mdatabase_generation\u001b[0m\u001b[1;33m.\u001b[0m\u001b[0mgenerate_databases\u001b[0m \u001b[1;32mimport\u001b[0m \u001b[0mrefresh_raw_price_database\u001b[0m\u001b[1;33m\u001b[0m\u001b[1;33m\u001b[0m\u001b[0m\n\u001b[0m\u001b[0;32m     28\u001b[0m \u001b[1;31m# from analysis.tickers import ticker_list\u001b[0m\u001b[1;33m\u001b[0m\u001b[1;33m\u001b[0m\u001b[1;33m\u001b[0m\u001b[0m\n\u001b[0;32m     29\u001b[0m \u001b[1;31m# from analysis.utility import convert_str_numbs_to_float\u001b[0m\u001b[1;33m\u001b[0m\u001b[1;33m\u001b[0m\u001b[1;33m\u001b[0m\u001b[0m\n",
      "\u001b[1;31mImportError\u001b[0m: cannot import name 'refresh_raw_price_database' from 'factor_model.offline_elements.database_generation.generate_databases' (K:/Thesis/codes/crypto_project\\factor_model\\offline_elements\\database_generation\\generate_databases.py)"
     ]
    }
   ],
   "source": [
    "# -*- coding: utf-8 -*-\n",
    "\"\"\"\n",
    "Created on Tue Aug 29 21:39:37 2023\n",
    "\n",
    "@author: Bebesi Laci\n",
    "\"\"\"\n",
    "\n",
    "import sys\n",
    "import os\n",
    "import re\n",
    "import pandas as pd\n",
    "import numpy as np\n",
    "import yfinance as yf\n",
    "import logging\n",
    "import sqlite3\n",
    "\n",
    "sys.path.insert(0, r\"K:/Thesis/codes/crypto_project\")\n",
    "from factor_model.offline_elements.loaders.price_data_loaders import (\n",
    "    generate_ytickets,\n",
    "    generate_price_data_map\n",
    ")\n",
    "\n",
    "from factor_model.offline_elements.loaders.crypto_coin_loaders import (\n",
    "    get_ticker_list\n",
    ")\n",
    "from datetime import date, timedelta\n",
    "#from factor_model.offline_elements.\n",
    "# from analysis.tickers import ticker_list\n",
    "# from analysis.utility import convert_str_numbs_to_float\n",
    "# from analysis.styles.return_based import generate_x_month_momentum\n",
    "# from analysis.market_cap import generate_market_cap_data\n",
    "# from analysis.ticker_basics import generate_ytickets, generate_price_data_map\n",
    "# from analysis.returns import generate_return_data\n",
    "# from analysis.estimation_basis import generate_estimation_basis\n",
    "# from datetime import date, timedelta\n",
    "# import matplotlib.pyplot as plt\n",
    "# import datetime\n",
    "# import statsmodels.api as sm\n",
    "# from analysis.factor_return_dataset import create_factor_return_data, create_expo_from_daily_data\n",
    "# from tqdm import tqdm\n",
    "# import matplotlib.pyplot as plt\n",
    "\n",
    "DATABASE_LOCATION = r\"K:/Thesis/database\""
   ]
  },
  {
   "cell_type": "code",
   "execution_count": 42,
   "metadata": {},
   "outputs": [],
   "source": [
    "\n",
    "parameters = {\n",
    "    \"HORIZON\" : \"20y\",\n",
    "    \"ESTIMATION_HORIZON\": int(6.5*365),\n",
    "    \"WEIGHT_FUNCTION\" : np.sqrt,\n",
    "    \"PRESENT_IN_MARKET\" : 3*365,  # trade days, 3 years approx\n",
    "    \"ESTIMATION_DAY\": date.today(),\n",
    "    \"MARKET_CAP_COVERAGE\" : 0.82,\n",
    "    \"NEW_COIN_INCLUSION\": 365,  # after X days\n",
    "    \"REGRESSORS_SET1\": [\"market\", \"size\", \"momentum\", \"reversal\"],\n",
    "    \"REGRESSORS_SET2\": [\"new_coin\"]\n",
    "}\n",
    "parameters[\"CORE_UNIV_START\"] = parameters[\"ESTIMATION_DAY\"] - timedelta(parameters[\"PRESENT_IN_MARKET\"])\n"
   ]
  },
  {
   "cell_type": "code",
   "execution_count": 43,
   "metadata": {},
   "outputs": [],
   "source": [
    "tickers = get_ticker_list()"
   ]
  },
  {
   "cell_type": "code",
   "execution_count": 44,
   "metadata": {},
   "outputs": [],
   "source": [
    "yfinance_tickers = generate_ytickets(tickers)\n",
    "price_data_map = generate_price_data_map(yfinance_tickers, parameters[\"HORIZON\"])\n"
   ]
  },
  {
   "cell_type": "code",
   "execution_count": 57,
   "metadata": {},
   "outputs": [
    {
     "name": "stderr",
     "output_type": "stream",
     "text": [
      "k:\\P375\\lib\\site-packages\\pandas\\core\\generic.py:2882: UserWarning: The spaces in these column names will not be changed. In pandas versions < 0.14, spaces were converted to underscores.\n",
      "  method=method,\n"
     ]
    }
   ],
   "source": [
    "\n",
    "RAW_DATA_DB = \"raw_price_data.db\"\n",
    "try:\n",
    "    os.remove(os.path.join(DATABASE_LOCATION, RAW_DATA_DB))\n",
    "except Exception:\n",
    "    pass\n",
    "with sqlite3.connect(os.path.join(DATABASE_LOCATION, RAW_DATA_DB)) as conn:\n",
    "    for key in price_data_map:\n",
    "        price_data_map[key].to_sql(\"raw_price_data\", conn, if_exists=\"append\", index=False)"
   ]
  },
  {
   "cell_type": "code",
   "execution_count": 58,
   "metadata": {},
   "outputs": [],
   "source": [
    "with sqlite3.connect(os.path.join(DATABASE_LOCATION, RAW_DATA_DB)) as conn:\n",
    "    df = pd.read_sql_query(\"SELECT * FROM raw_price_data\", conn)\n"
   ]
  },
  {
   "cell_type": "code",
   "execution_count": 56,
   "metadata": {},
   "outputs": [
    {
     "data": {
      "text/plain": [
       "2297"
      ]
     },
     "execution_count": 56,
     "metadata": {},
     "output_type": "execute_result"
    }
   ],
   "source": [
    "len(df)"
   ]
  },
  {
   "cell_type": "code",
   "execution_count": null,
   "metadata": {},
   "outputs": [],
   "source": [
    "RAW_DATA_DB = \"raw_price_data.db\"\n",
    "\n",
    "\n",
    "def refresh_raw_price_data(database_location: str):\n",
    "    RAW_DATA_DB = \"raw_price_data.db\"\n",
    "    with sqlite3.connect(os.path.join(database_location, RAW_DATA_DB)) as conn:\n",
    "        for key in price_data_map:\n",
    "            price_data_map[key].to_sql(\"raw_price_data\", conn, if_exists=\"replace\", index=False)"
   ]
  }
 ],
 "metadata": {
  "kernelspec": {
   "display_name": "Python 3.7.5 64-bit",
   "language": "python",
   "name": "python3"
  },
  "language_info": {
   "codemirror_mode": {
    "name": "ipython",
    "version": 3
   },
   "file_extension": ".py",
   "mimetype": "text/x-python",
   "name": "python",
   "nbconvert_exporter": "python",
   "pygments_lexer": "ipython3",
   "version": "3.7.5"
  },
  "orig_nbformat": 4,
  "vscode": {
   "interpreter": {
    "hash": "4bd5e7736441d0274e2a1e54642b8e54a1eb3e549b21ef327dd4d3ce64352013"
   }
  }
 },
 "nbformat": 4,
 "nbformat_minor": 2
}
