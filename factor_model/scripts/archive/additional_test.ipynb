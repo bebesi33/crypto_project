{
 "cells": [
  {
   "cell_type": "code",
   "execution_count": 42,
   "metadata": {},
   "outputs": [],
   "source": [
    "import sys\n",
    "import os\n",
    "import pandas as pd\n",
    "import sqlite3\n",
    "from scipy import stats\n",
    "from statsmodels.stats.diagnostic import het_white\n",
    "from tqdm import tqdm\n"
   ]
  },
  {
   "cell_type": "code",
   "execution_count": 6,
   "metadata": {},
   "outputs": [],
   "source": [
    "DATABASE_LOCATION = r\"E:/Thesis/database\"\n",
    "sys.path.insert(0, r\"E:/Thesis/crypto_project\")\n",
    "from factor_model.model_update.database_generators import (\n",
    "    RAW_DATA_DB,\n",
    "    RETURN_DB,\n",
    "    SPECIFIC_RISK,\n",
    "    FACTOR_MODEL_ESTIMATES,\n",
    "    FIX_SET_OF_HALF_LIFES,\n",
    ")"
   ]
  },
  {
   "cell_type": "code",
   "execution_count": 47,
   "metadata": {},
   "outputs": [],
   "source": [
    "\n",
    "with sqlite3.connect(os.path.join(DATABASE_LOCATION, FACTOR_MODEL_ESTIMATES)) as conn:\n",
    "    all_exposures = pd.read_sql(\n",
    "        \"SELECT * FROM exposures\", conn\n",
    "    )\n",
    "\n",
    "with sqlite3.connect(os.path.join(DATABASE_LOCATION, FACTOR_MODEL_ESTIMATES)) as conn:\n",
    "    all_rsquares = pd.read_sql(\n",
    "        \"SELECT * FROM r_squares\", conn\n",
    "    )\n",
    "\n",
    "with sqlite3.connect(os.path.join(DATABASE_LOCATION, FACTOR_MODEL_ESTIMATES)) as conn:\n",
    "    all_residuals = pd.read_sql(\n",
    "        \"SELECT * FROM specific_returns\", conn\n",
    "    )\n"
   ]
  },
  {
   "cell_type": "code",
   "execution_count": 48,
   "metadata": {},
   "outputs": [],
   "source": [
    "all_dates = list(all_rsquares[\"date\"])\n"
   ]
  },
  {
   "cell_type": "code",
   "execution_count": null,
   "metadata": {},
   "outputs": [],
   "source": [
    "jb_container = []\n",
    "white_container = []"
   ]
  },
  {
   "cell_type": "code",
   "execution_count": 45,
   "metadata": {},
   "outputs": [
    {
     "name": "stderr",
     "output_type": "stream",
     "text": [
      "100%|██████████| 2363/2363 [44:33<00:00,  1.13s/it]\n"
     ]
    }
   ],
   "source": [
    "for date in tqdm(all_dates):\n",
    "    core_exposure = all_exposures[\n",
    "        (all_exposures[\"date\"] == date) & (all_exposures[\"core_universe\"] > 0)\n",
    "    ].copy()\n",
    "    core_symbols = list(core_exposure[\"symbol\"])\n",
    "    core_residuals = all_residuals[(all_residuals[\"date\"]==date)&(all_residuals[\"symbol\"].isin(core_symbols))].copy()\n",
    "    core_residuals.sort_values(by=\"symbol\", inplace=True)\n",
    "    core_exposure.sort_values(by=\"symbol\", inplace=True)\n",
    "\n",
    "    res = stats.jarque_bera(core_residuals[\"specific_return\"])\n",
    "    jb_container.append(float(res.pvalue))\n",
    "    white_test = het_white(core_residuals[\"specific_return\"],  core_exposure[[\"market\",\"new_coin\",\"momentum\", \"volume\", \"reversal\",\"size\"]])\n",
    "    white_container.append(float(white_test[1]))\n"
   ]
  },
  {
   "cell_type": "code",
   "execution_count": 56,
   "metadata": {},
   "outputs": [],
   "source": [
    "all_rsquares_update = all_rsquares.copy()\n",
    "all_rsquares_update[\"white_lm_pvalue\"] = white_container\n",
    "all_rsquares_update[\"jb_pvalue\"] = jb_container\n"
   ]
  },
  {
   "cell_type": "code",
   "execution_count": 59,
   "metadata": {},
   "outputs": [],
   "source": [
    "with sqlite3.connect(os.path.join(DATABASE_LOCATION, FACTOR_MODEL_ESTIMATES)) as conn:\n",
    "    all_rsquares_update.to_sql(\"r_squares\", conn, if_exists=\"replace\", index=False)"
   ]
  },
  {
   "cell_type": "code",
   "execution_count": null,
   "metadata": {},
   "outputs": [],
   "source": []
  }
 ],
 "metadata": {
  "kernelspec": {
   "display_name": "crypto_env",
   "language": "python",
   "name": "python3"
  },
  "language_info": {
   "codemirror_mode": {
    "name": "ipython",
    "version": 3
   },
   "file_extension": ".py",
   "mimetype": "text/x-python",
   "name": "python",
   "nbconvert_exporter": "python",
   "pygments_lexer": "ipython3",
   "version": "3.12.6"
  }
 },
 "nbformat": 4,
 "nbformat_minor": 2
}
