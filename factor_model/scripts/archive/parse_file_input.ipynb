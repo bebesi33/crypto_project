{
 "cells": [
  {
   "cell_type": "code",
   "execution_count": 64,
   "metadata": {},
   "outputs": [],
   "source": [
    "from typing import Dict, List, Tuple\n",
    "\n",
    "\n",
    "def parse_file_input_into_portfolio(\n",
    "    input_stream: str,\n",
    ") -> Tuple[Dict[str, float], List[str], int]:\n",
    "    lines = input_stream.split(\"\\r\\n\")\n",
    "\n",
    "    # Only two separators are accepted: \",\" and \";\"\n",
    "    separator = \",\"\n",
    "    if separator not in input_stream and \";\" in input_stream:\n",
    "        separator = \";\"\n",
    "\n",
    "    # Initialize empty lists for index and values\n",
    "    port_weights = {}\n",
    "    log_messages = list()\n",
    "    error_code = 0\n",
    "    # Parse each line\n",
    "    for line in lines:\n",
    "        if line:\n",
    "            symbol, value = line.split(separator)\n",
    "            try:\n",
    "                port_weights[symbol] = float(value)\n",
    "            except ValueError:\n",
    "                log_message = f\"Symbol : {symbol} cannot be parsed with value: {value}.\"\n",
    "                log_messages.append(log_message)\n",
    "                error_code = 1\n",
    "    # Normalize portfolio\n",
    "    total_weight = abs(sum(port_weights.values()))\n",
    "    if abs(total_weight) > 0.000000001:\n",
    "        for key in port_weights.keys():\n",
    "            port_weights[key] = port_weights[key] / total_weight\n",
    "    print(sum(port_weights.values()) )\n",
    "    if sum(port_weights.values()) < 0:\n",
    "        log_messages.append(\n",
    "            \"The total portfolio weights are less then 0! Are you sure, that this can be shorted?\"\n",
    "        )\n",
    "        error_code = 1\n",
    "    if len(port_weights.keys()) < 1:\n",
    "        log_messages.append(\"The portfolio input is empty!\")\n",
    "        error_code = 404\n",
    "\n",
    "    return port_weights, log_messages, error_code"
   ]
  },
  {
   "cell_type": "code",
   "execution_count": 65,
   "metadata": {},
   "outputs": [],
   "source": [
    "input_stream_1 = 'BTC-USD,0.50\\r\\nETH-USD,0.45\\r\\nXRP-USD,0.05\\r\\n\\r\\n'\n",
    "input_stream_2 = 'BTC-USD,0.50\\r\\nETH-USD,0.50'\n",
    "input_stream_3 = 'BTC-USD;herh0.50\\r\\nETH-USD;0.50'\n",
    "input_stream_4 = ''\n",
    "input_stream_5 = 'BTC-USD,-0.50\\r\\nETH-USD,-0.50'\n",
    "input_stream_6 = 'BTC-USD,-0.50\\r\\nETH-USD,egewgew'\n"
   ]
  },
  {
   "cell_type": "code",
   "execution_count": 66,
   "metadata": {},
   "outputs": [
    {
     "data": {
      "text/plain": [
       "['BTC-USD', '0.50\\r\\nETH-USD', '0.50']"
      ]
     },
     "execution_count": 66,
     "metadata": {},
     "output_type": "execute_result"
    }
   ],
   "source": [
    "input_stream_2.split(\",\")"
   ]
  },
  {
   "cell_type": "code",
   "execution_count": 67,
   "metadata": {},
   "outputs": [],
   "source": [
    "input_stream = input_stream_1"
   ]
  },
  {
   "cell_type": "code",
   "execution_count": 68,
   "metadata": {},
   "outputs": [
    {
     "name": "stdout",
     "output_type": "stream",
     "text": [
      "-1.0\n"
     ]
    }
   ],
   "source": [
    "port_weight, port_log_messages, error_code = parse_file_input_into_portfolio(input_stream_5)\n"
   ]
  },
  {
   "cell_type": "code",
   "execution_count": 58,
   "metadata": {},
   "outputs": [
    {
     "data": {
      "text/plain": [
       "[]"
      ]
     },
     "execution_count": 58,
     "metadata": {},
     "output_type": "execute_result"
    }
   ],
   "source": [
    "port_log_messages"
   ]
  },
  {
   "cell_type": "code",
   "execution_count": null,
   "metadata": {},
   "outputs": [],
   "source": []
  }
 ],
 "metadata": {
  "kernelspec": {
   "display_name": "Python 3",
   "language": "python",
   "name": "python3"
  },
  "language_info": {
   "codemirror_mode": {
    "name": "ipython",
    "version": 3
   },
   "file_extension": ".py",
   "mimetype": "text/x-python",
   "name": "python",
   "nbconvert_exporter": "python",
   "pygments_lexer": "ipython3",
   "version": "3.9.7"
  }
 },
 "nbformat": 4,
 "nbformat_minor": 2
}
