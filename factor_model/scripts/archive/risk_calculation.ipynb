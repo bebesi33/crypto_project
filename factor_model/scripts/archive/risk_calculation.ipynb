{
 "cells": [
  {
   "cell_type": "code",
   "execution_count": 1,
   "metadata": {},
   "outputs": [],
   "source": [
    "import sys\n",
    "sys.path.insert(0, r\"K:/Thesis/codes/crypto_project\")\n",
    "sys.path.insert(0, r\"E:/Thesis/crypto_project\")\n",
    "import os\n",
    "import sqlite3\n",
    "import pandas as pd\n",
    "import numpy as np\n",
    "from tqdm import tqdm\n",
    "\n",
    "DATABASE_LOCATION = r\"E:/Thesis/database\"\n",
    "from factor_model.model_update.database_generators import (\n",
    "    RAW_DATA_DB,\n",
    "    RETURN_DB,\n",
    "    FACTOR_MODEL_ESTIMATES\n",
    ")\n",
    "from typing import Dict\n"
   ]
  },
  {
   "cell_type": "code",
   "execution_count": 14,
   "metadata": {},
   "outputs": [
    {
     "data": {
      "text/plain": [
       "'00'"
      ]
     },
     "execution_count": 14,
     "metadata": {},
     "output_type": "execute_result"
    }
   ],
   "source": [
    "\"\".rjust(max(3 - str(val)[::-1].find(\".\"), 0), '0')"
   ]
  },
  {
   "cell_type": "code",
   "execution_count": 2,
   "metadata": {},
   "outputs": [],
   "source": [
    "from factor_model.risk_calculations.factor_covariance import (\n",
    "    get_factor_return_correlation,\n",
    "    get_factor_return_standard_deviation,\n",
    "    assemble_factor_covariance_matrix\n",
    ")\n",
    "from factor_model.risk_calculations.specific_risk import (\n",
    "    generate_raw_specific_risk,\n",
    "    generate_raw_portfolio_specific_risk\n",
    ")\n",
    "from factor_model.risk_calculations.core_universe_portfolio import generate_market_portfolio"
   ]
  },
  {
   "cell_type": "markdown",
   "metadata": {},
   "source": [
    "#### 0. Parameters"
   ]
  },
  {
   "cell_type": "code",
   "execution_count": 3,
   "metadata": {},
   "outputs": [],
   "source": [
    "# A sample portfolio to test calculations and restrict query...\n",
    "portfolio_details = {\n",
    "    \"BCUBE-USD\": 100,\n",
    "    \"LNC-USD\": 20,\n",
    "    \"PMG24050-USD\": 30,\n",
    "    \"ZNN-USD\": 50,\n",
    "    \"EFI-USD\": 50,\n",
    "    \"BTC-USD\": 150\n",
    "}\n",
    "\n",
    "# risk calculation\n",
    "risk_calculation_parameters = {\n",
    "    \"correlation_half_life\": 730,  # days\n",
    "    \"variance_half_life\": 365,  # days\n",
    "    \"specific_risk_half_life\": 365,\n",
    "    \"date\": \"2023-03-04\",\n",
    "    \"minimum_history_spec_ret\": 730\n",
    "}"
   ]
  },
  {
   "cell_type": "markdown",
   "metadata": {},
   "source": [
    "#### 1. Load the factor returns"
   ]
  },
  {
   "cell_type": "code",
   "execution_count": 4,
   "metadata": {},
   "outputs": [],
   "source": [
    "with sqlite3.connect(os.path.join(DATABASE_LOCATION, FACTOR_MODEL_ESTIMATES)) as conn:\n",
    "    factor_returns = pd.read_sql_query(\"SELECT * FROM factor_returns\", conn)"
   ]
  },
  {
   "cell_type": "markdown",
   "metadata": {},
   "source": [
    "#### 2. factor covariance related calculations"
   ]
  },
  {
   "cell_type": "code",
   "execution_count": 5,
   "metadata": {},
   "outputs": [
    {
     "data": {
      "text/html": [
       "<div>\n",
       "<style scoped>\n",
       "    .dataframe tbody tr th:only-of-type {\n",
       "        vertical-align: middle;\n",
       "    }\n",
       "\n",
       "    .dataframe tbody tr th {\n",
       "        vertical-align: top;\n",
       "    }\n",
       "\n",
       "    .dataframe thead th {\n",
       "        text-align: right;\n",
       "    }\n",
       "</style>\n",
       "<table border=\"1\" class=\"dataframe\">\n",
       "  <thead>\n",
       "    <tr style=\"text-align: right;\">\n",
       "      <th></th>\n",
       "      <th></th>\n",
       "      <th>market</th>\n",
       "      <th>momentum</th>\n",
       "      <th>new_coin</th>\n",
       "      <th>reversal</th>\n",
       "      <th>size</th>\n",
       "      <th>volume</th>\n",
       "    </tr>\n",
       "  </thead>\n",
       "  <tbody>\n",
       "    <tr>\n",
       "      <th rowspan=\"6\" valign=\"top\">1765</th>\n",
       "      <th>market</th>\n",
       "      <td>1.000000</td>\n",
       "      <td>0.020237</td>\n",
       "      <td>-0.227545</td>\n",
       "      <td>-0.048430</td>\n",
       "      <td>0.303360</td>\n",
       "      <td>-0.730431</td>\n",
       "    </tr>\n",
       "    <tr>\n",
       "      <th>momentum</th>\n",
       "      <td>0.020237</td>\n",
       "      <td>1.000000</td>\n",
       "      <td>0.082769</td>\n",
       "      <td>-0.265184</td>\n",
       "      <td>-0.097476</td>\n",
       "      <td>0.053568</td>\n",
       "    </tr>\n",
       "    <tr>\n",
       "      <th>new_coin</th>\n",
       "      <td>-0.227545</td>\n",
       "      <td>0.082769</td>\n",
       "      <td>1.000000</td>\n",
       "      <td>0.104668</td>\n",
       "      <td>0.037091</td>\n",
       "      <td>0.406697</td>\n",
       "    </tr>\n",
       "    <tr>\n",
       "      <th>reversal</th>\n",
       "      <td>-0.048430</td>\n",
       "      <td>-0.265184</td>\n",
       "      <td>0.104668</td>\n",
       "      <td>1.000000</td>\n",
       "      <td>0.027737</td>\n",
       "      <td>0.041279</td>\n",
       "    </tr>\n",
       "    <tr>\n",
       "      <th>size</th>\n",
       "      <td>0.303360</td>\n",
       "      <td>-0.097476</td>\n",
       "      <td>0.037091</td>\n",
       "      <td>0.027737</td>\n",
       "      <td>1.000000</td>\n",
       "      <td>-0.592027</td>\n",
       "    </tr>\n",
       "    <tr>\n",
       "      <th>volume</th>\n",
       "      <td>-0.730431</td>\n",
       "      <td>0.053568</td>\n",
       "      <td>0.406697</td>\n",
       "      <td>0.041279</td>\n",
       "      <td>-0.592027</td>\n",
       "      <td>1.000000</td>\n",
       "    </tr>\n",
       "  </tbody>\n",
       "</table>\n",
       "</div>"
      ],
      "text/plain": [
       "                 market  momentum  new_coin  reversal      size    volume\n",
       "1765 market    1.000000  0.020237 -0.227545 -0.048430  0.303360 -0.730431\n",
       "     momentum  0.020237  1.000000  0.082769 -0.265184 -0.097476  0.053568\n",
       "     new_coin -0.227545  0.082769  1.000000  0.104668  0.037091  0.406697\n",
       "     reversal -0.048430 -0.265184  0.104668  1.000000  0.027737  0.041279\n",
       "     size      0.303360 -0.097476  0.037091  0.027737  1.000000 -0.592027\n",
       "     volume   -0.730431  0.053568  0.406697  0.041279 -0.592027  1.000000"
      ]
     },
     "metadata": {},
     "output_type": "display_data"
    },
    {
     "data": {
      "text/plain": [
       "market      0.038177\n",
       "momentum    0.006918\n",
       "new_coin    0.006413\n",
       "reversal    0.011822\n",
       "size        0.008365\n",
       "volume      0.009609\n",
       "dtype: float64"
      ]
     },
     "metadata": {},
     "output_type": "display_data"
    },
    {
     "data": {
      "text/html": [
       "<div>\n",
       "<style scoped>\n",
       "    .dataframe tbody tr th:only-of-type {\n",
       "        vertical-align: middle;\n",
       "    }\n",
       "\n",
       "    .dataframe tbody tr th {\n",
       "        vertical-align: top;\n",
       "    }\n",
       "\n",
       "    .dataframe thead th {\n",
       "        text-align: right;\n",
       "    }\n",
       "</style>\n",
       "<table border=\"1\" class=\"dataframe\">\n",
       "  <thead>\n",
       "    <tr style=\"text-align: right;\">\n",
       "      <th></th>\n",
       "      <th>market</th>\n",
       "      <th>momentum</th>\n",
       "      <th>new_coin</th>\n",
       "      <th>reversal</th>\n",
       "      <th>size</th>\n",
       "      <th>volume</th>\n",
       "    </tr>\n",
       "  </thead>\n",
       "  <tbody>\n",
       "    <tr>\n",
       "      <th>market</th>\n",
       "      <td>0.001458</td>\n",
       "      <td>0.000005</td>\n",
       "      <td>-0.000056</td>\n",
       "      <td>-0.000022</td>\n",
       "      <td>0.000097</td>\n",
       "      <td>-0.000268</td>\n",
       "    </tr>\n",
       "    <tr>\n",
       "      <th>momentum</th>\n",
       "      <td>0.000005</td>\n",
       "      <td>0.000048</td>\n",
       "      <td>0.000004</td>\n",
       "      <td>-0.000022</td>\n",
       "      <td>-0.000006</td>\n",
       "      <td>0.000004</td>\n",
       "    </tr>\n",
       "    <tr>\n",
       "      <th>new_coin</th>\n",
       "      <td>-0.000056</td>\n",
       "      <td>0.000004</td>\n",
       "      <td>0.000041</td>\n",
       "      <td>0.000008</td>\n",
       "      <td>0.000002</td>\n",
       "      <td>0.000025</td>\n",
       "    </tr>\n",
       "    <tr>\n",
       "      <th>reversal</th>\n",
       "      <td>-0.000022</td>\n",
       "      <td>-0.000022</td>\n",
       "      <td>0.000008</td>\n",
       "      <td>0.000140</td>\n",
       "      <td>0.000003</td>\n",
       "      <td>0.000005</td>\n",
       "    </tr>\n",
       "    <tr>\n",
       "      <th>size</th>\n",
       "      <td>0.000097</td>\n",
       "      <td>-0.000006</td>\n",
       "      <td>0.000002</td>\n",
       "      <td>0.000003</td>\n",
       "      <td>0.000070</td>\n",
       "      <td>-0.000048</td>\n",
       "    </tr>\n",
       "    <tr>\n",
       "      <th>volume</th>\n",
       "      <td>-0.000268</td>\n",
       "      <td>0.000004</td>\n",
       "      <td>0.000025</td>\n",
       "      <td>0.000005</td>\n",
       "      <td>-0.000048</td>\n",
       "      <td>0.000092</td>\n",
       "    </tr>\n",
       "  </tbody>\n",
       "</table>\n",
       "</div>"
      ],
      "text/plain": [
       "            market  momentum  new_coin  reversal      size    volume\n",
       "market    0.001458  0.000005 -0.000056 -0.000022  0.000097 -0.000268\n",
       "momentum  0.000005  0.000048  0.000004 -0.000022 -0.000006  0.000004\n",
       "new_coin -0.000056  0.000004  0.000041  0.000008  0.000002  0.000025\n",
       "reversal -0.000022 -0.000022  0.000008  0.000140  0.000003  0.000005\n",
       "size      0.000097 -0.000006  0.000002  0.000003  0.000070 -0.000048\n",
       "volume   -0.000268  0.000004  0.000025  0.000005 -0.000048  0.000092"
      ]
     },
     "metadata": {},
     "output_type": "display_data"
    }
   ],
   "source": [
    "correlation = get_factor_return_correlation(factor_returns, risk_calculation_parameters)\n",
    "display(correlation)\n",
    "std = get_factor_return_standard_deviation(factor_returns, risk_calculation_parameters)\n",
    "display(std)\n",
    "covariance = assemble_factor_covariance_matrix(std, correlation)\n",
    "display(covariance)\n"
   ]
  },
  {
   "cell_type": "markdown",
   "metadata": {},
   "source": [
    "#### 3. specific risk modeling"
   ]
  },
  {
   "cell_type": "code",
   "execution_count": 6,
   "metadata": {},
   "outputs": [],
   "source": [
    "with sqlite3.connect(os.path.join(DATABASE_LOCATION, FACTOR_MODEL_ESTIMATES)) as conn:\n",
    "    specific_returns = pd.read_sql_query(f\"SELECT * FROM specific_returns where ticker in {tuple(portfolio_details.keys())}\", conn)"
   ]
  },
  {
   "cell_type": "code",
   "execution_count": 7,
   "metadata": {},
   "outputs": [],
   "source": [
    "# raw specific risk calculation, based on a naive approach\n",
    "spec_std, hist_len = generate_raw_specific_risk(specific_returns, risk_calculation_parameters, portfolio_details)"
   ]
  },
  {
   "cell_type": "code",
   "execution_count": 8,
   "metadata": {},
   "outputs": [
    {
     "data": {
      "text/plain": [
       "{'BCUBE-USD': 0.10966703295406163,\n",
       " 'LNC-USD': 0.14962437646714322,\n",
       " 'PMG24050-USD': None,\n",
       " 'ZNN-USD': 0.11430259704561414,\n",
       " 'EFI-USD': 0.049052398563265764,\n",
       " 'BTC-USD': 0.008626331234568763}"
      ]
     },
     "execution_count": 8,
     "metadata": {},
     "output_type": "execute_result"
    }
   ],
   "source": [
    "spec_std"
   ]
  },
  {
   "cell_type": "code",
   "execution_count": 9,
   "metadata": {},
   "outputs": [
    {
     "data": {
      "text/plain": [
       "{'BCUBE-USD': 612,\n",
       " 'LNC-USD': 989,\n",
       " 'PMG24050-USD': 0,\n",
       " 'ZNN-USD': 1360,\n",
       " 'EFI-USD': 576,\n",
       " 'BTC-USD': 1766}"
      ]
     },
     "execution_count": 9,
     "metadata": {},
     "output_type": "execute_result"
    }
   ],
   "source": [
    "hist_len"
   ]
  },
  {
   "cell_type": "code",
   "execution_count": 10,
   "metadata": {},
   "outputs": [
    {
     "data": {
      "text/plain": [
       "0.03519495140174019"
      ]
     },
     "execution_count": 10,
     "metadata": {},
     "output_type": "execute_result"
    }
   ],
   "source": [
    "generate_raw_portfolio_specific_risk(spec_std, portfolio_details)"
   ]
  }
 ],
 "metadata": {
  "kernelspec": {
   "display_name": "base",
   "language": "python",
   "name": "python3"
  },
  "language_info": {
   "codemirror_mode": {
    "name": "ipython",
    "version": 3
   },
   "file_extension": ".py",
   "mimetype": "text/x-python",
   "name": "python",
   "nbconvert_exporter": "python",
   "pygments_lexer": "ipython3",
   "version": "3.9.7"
  }
 },
 "nbformat": 4,
 "nbformat_minor": 2
}
